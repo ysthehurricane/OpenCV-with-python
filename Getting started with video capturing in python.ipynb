{
 "cells": [
  {
   "cell_type": "code",
   "execution_count": 2,
   "metadata": {},
   "outputs": [],
   "source": [
    "import cv2                                              # Opencv library\n",
    "import numpy as np                                      # import for calculation"
   ]
  },
  {
   "cell_type": "markdown",
   "metadata": {},
   "source": [
    "# Capture Video from Camera"
   ]
  },
  {
   "cell_type": "markdown",
   "metadata": {},
   "source": [
    "To capture a video, we need to create a **VideoCapture** object.<br>\n",
    "Its argument can be either the device index or the name of a video file.<br>\n",
    "If you press 0 or -1,it indicates default camera or webcam. Then, you can select the second camera by passing 1 and so on. <br>\n",
    "After that, we can capture frame-by-frame. But at the end, don’t forget to release the capture."
   ]
  },
  {
   "cell_type": "code",
   "execution_count": 4,
   "metadata": {},
   "outputs": [],
   "source": [
    "cap = cv2.VideoCapture(0)                            #if everything is going perfect, returns true\n",
    "\n",
    "while(cap.open):                                     #while(True) , while(cap.isopened), while(cap.open)\n",
    "    \n",
    "    ret, frame = cap.read()                              #Capture frame by frame\n",
    "    \n",
    "    #gray = cv2.cvtColor(frame, cv2.COLOR_BGR2GRAY)   #Convert video capturing to grayscale\n",
    "    \n",
    "    cv2.imshow('Live streaming',frame)               #Show every frame\n",
    "    \n",
    "    if cv2.waitKey(1) == ord('q'):\n",
    "        break\n",
    "\n",
    "cap.release()\n",
    "cv2.destroyAllWindows()"
   ]
  },
  {
   "cell_type": "markdown",
   "metadata": {},
   "source": [
    "We can also access some of the features of this video using **cap.get(propId)** method where propId is a number from 0 to 18. Each number denotes a property of the video and We can also change it by doing **cap.set(propId, value)** .<br>\n",
    "\n",
    "For example, check the frame width and height by cap.get(3) and cap.get(4).It gives 640x480 by default. But, if you want to change it then you can write cap.set(3, 320) and cap.set(4, 240).\n",
    "\n",
    "For checking more property <a href=\"https://docs.opencv.org/2.4/modules/highgui/doc/reading_and_writing_images_and_video.html#videocapture-get\">click here</a>\n"
   ]
  },
  {
   "cell_type": "code",
   "execution_count": 3,
   "metadata": {},
   "outputs": [
    {
     "name": "stdout",
     "output_type": "stream",
     "text": [
      "Default Frame Width and Height : (640.0,480.0)\n",
      "Custom Frame Width and Height : (320.0,240.0)\n"
     ]
    }
   ],
   "source": [
    "cap = cv2.VideoCapture(0)                            #if everything is going perfect, returns true\n",
    "\n",
    "#cap = cv2.VideoCapture('vtest.avi')\n",
    "\n",
    "print(\"Default Frame Width and Height : ({},{})\".format(cap.get(3), cap.get(4)))\n",
    "cap.set(3, 320)\n",
    "cap.set(4, 240)\n",
    "\n",
    "\n",
    "while(cap.open):                                     #while(True) , while(cap.isopened), while(cap.open)\n",
    "    \n",
    "    ret, frame = cap.read()                          #Capture frame by frame\n",
    "   \n",
    "    cv2.imshow('Live streaming',frame)               #Show every frame\n",
    "    \n",
    "    if cv2.waitKey(1) == ord('q'):\n",
    "        break\n",
    "\n",
    "print(\"Custom Frame Width and Height : ({},{})\".format(cap.get(3), cap.get(4)))\n",
    "cap.release()\n",
    "cv2.destroyAllWindows()"
   ]
  },
  {
   "cell_type": "markdown",
   "metadata": {},
   "source": [
    "# Saving a Video\n"
   ]
  },
  {
   "cell_type": "markdown",
   "metadata": {},
   "source": [
    "We have to create **cv2.VideoWriter** object for saving the video.\n",
    "<li>First argument: File name</li>\n",
    "<li>Second argument: FourCC code <br>\n",
    "                 it is a 4-byte code used to specify the video codec which is used for uniquely identifying video formats   and compresses data to enable faster transmission and decompresses received data.Here the list available on <a href=\"http://www.fourcc.org/codecs.php\">here</a>. Moreover, it is a platform dependent code so you have to find your suitable code according to your os and its configurations.<br> In Windows, MJPG and DIVX works for me.<br>\n",
    "FourCC code is passed as cv2.VideoWriter_fourcc('M','J','P','G') or cv2.VideoWriter_fourcc(*'MJPG') for MJPG.</li>\n",
    "<li>Third argument: frames per second (fps) or frame size</li>\n",
    "<li>Forth argument: isColor flag. if true, color frame and for false, grayscale frame.</li>"
   ]
  },
  {
   "cell_type": "code",
   "execution_count": 5,
   "metadata": {},
   "outputs": [],
   "source": [
    "cap = cv2.VideoCapture(0)\n",
    "\n",
    "fourcc = cv2.VideoWriter_fourcc(*'MJPG') # Define the codec and create VideoWriter object\n",
    "record = cv2.VideoWriter('savingvideo.avi',fourcc, 20.0,(320,240), True)\n",
    "\n",
    "while(True):\n",
    "    \n",
    "    ret, frame = cap.read()              # reading each frame\n",
    "    \n",
    "    if ret==True:\n",
    "        \n",
    "        record.write(frame)              # write each frame in file   \n",
    "\n",
    "        cv2.imshow('record video',frame) # display frame in every 1 miliseconds. \n",
    "        if cv2.waitKey(1) == ord('q'):\n",
    "            break\n",
    "    else:\n",
    "        break\n",
    "\n",
    "cap.release()\n",
    "record.release()\n",
    "cv2.destroyAllWindows()"
   ]
  },
  {
   "cell_type": "code",
   "execution_count": null,
   "metadata": {},
   "outputs": [],
   "source": []
  }
 ],
 "metadata": {
  "kernelspec": {
   "display_name": "Python 3",
   "language": "python",
   "name": "python3"
  },
  "language_info": {
   "codemirror_mode": {
    "name": "ipython",
    "version": 3
   },
   "file_extension": ".py",
   "mimetype": "text/x-python",
   "name": "python",
   "nbconvert_exporter": "python",
   "pygments_lexer": "ipython3",
   "version": "3.5.4"
  }
 },
 "nbformat": 4,
 "nbformat_minor": 4
}
