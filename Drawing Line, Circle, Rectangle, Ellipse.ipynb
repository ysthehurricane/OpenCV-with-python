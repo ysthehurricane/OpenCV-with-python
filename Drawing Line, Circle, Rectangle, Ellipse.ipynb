{
 "cells": [
  {
   "cell_type": "code",
   "execution_count": 1,
   "metadata": {},
   "outputs": [],
   "source": [
    "import cv2                                              # Opencv library\n",
    "import numpy as np                                      # import for calculation"
   ]
  },
  {
   "cell_type": "markdown",
   "metadata": {},
   "source": [
    "# Drawing Line"
   ]
  },
  {
   "cell_type": "code",
   "execution_count": 27,
   "metadata": {},
   "outputs": [],
   "source": [
    "img = cv2.imread('background.jpeg',1)\n",
    "\n",
    "# readable image, starting point, ending point, color (BGR), thickness\n",
    "\n",
    "img = cv2.line(img,(0,0),(800,530),(0,255,255),4) \n",
    "#img = cv2.line(img,(0,0),(400,530),(0,255,255),5) \n",
    "\n",
    "cv2.imshow(\"Draw line\",img)\n",
    "cv2.waitKey(0)\n",
    "cv2.destroyAllWindows()"
   ]
  },
  {
   "cell_type": "markdown",
   "metadata": {},
   "source": [
    "# Drawing Rectangle"
   ]
  },
  {
   "cell_type": "code",
   "execution_count": 28,
   "metadata": {},
   "outputs": [],
   "source": [
    "img = cv2.imread('background.jpeg',1)\n",
    "\n",
    "#To draw a rectangle, you need top-left corner and bottom-right corner of rectangle , thickness\n",
    "img = cv2.rectangle(img,(100,100),(300,300),(0,255,0),5)\n",
    "\n",
    "cv2.imshow(\"Draw Rectangle\",img)\n",
    "cv2.waitKey(0)\n",
    "cv2.destroyAllWindows()"
   ]
  },
  {
   "cell_type": "markdown",
   "metadata": {},
   "source": [
    "# Drawing Circle"
   ]
  },
  {
   "cell_type": "code",
   "execution_count": 35,
   "metadata": {},
   "outputs": [],
   "source": [
    "img = cv2.imread('background.jpeg',1)\n",
    "\n",
    "# To draw a circle, you need its center coordinates, radius, color (BGR), thinkness.\n",
    "# Note : if thickness = -1 then it is a full colorcircle, otherwise, it is only border. \n",
    "\n",
    "img = cv2.circle(img,(150,150), 100, (0,0,255), -1)\n",
    "\n",
    "cv2.imshow(\"Draw Circle\",img)\n",
    "cv2.waitKey(0)\n",
    "cv2.destroyAllWindows()"
   ]
  },
  {
   "cell_type": "markdown",
   "metadata": {},
   "source": [
    "# Drawing Ellipse"
   ]
  },
  {
   "cell_type": "code",
   "execution_count": 47,
   "metadata": {},
   "outputs": [],
   "source": [
    "img = cv2.imread('background.jpeg',1)\n",
    "\n",
    "'''\n",
    "first argument is the center location (x,y). \n",
    "second argument is axes lengths (X axis length, Y axis length). \n",
    "Third argument is ellipse drawing agle. \n",
    "Forth and fifth argument is startAngle and end Angle denotes the starting and ending of ellipse arc measured \n",
    "                            in clockwise direction from major axis.\n",
    "                           for example, giving values 0 and 360 gives the full ellipse.\n",
    "sixth argument is color(BGR)\n",
    "Seventh argument is thinkness. if -1 then full colored, otherwise only border.\n",
    "\n",
    "'''\n",
    "img = cv2.ellipse(img,(150,150),(40,100),45,0,360,(0,127,255),-1)\n",
    "\n",
    "cv2.imshow(\"Draw ellipse\",img)\n",
    "cv2.waitKey(0)\n",
    "cv2.destroyAllWindows()"
   ]
  }
 ],
 "metadata": {
  "kernelspec": {
   "display_name": "Python 3",
   "language": "python",
   "name": "python3"
  },
  "language_info": {
   "codemirror_mode": {
    "name": "ipython",
    "version": 3
   },
   "file_extension": ".py",
   "mimetype": "text/x-python",
   "name": "python",
   "nbconvert_exporter": "python",
   "pygments_lexer": "ipython3",
   "version": "3.5.4"
  }
 },
 "nbformat": 4,
 "nbformat_minor": 4
}
