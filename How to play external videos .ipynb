{
 "cells": [
  {
   "cell_type": "markdown",
   "metadata": {},
   "source": [
    "# Import essential libraries"
   ]
  },
  {
   "cell_type": "code",
   "execution_count": 9,
   "metadata": {},
   "outputs": [],
   "source": [
    "import cv2                                              # Opencv library\n",
    "import numpy as np                                      # import for calculation"
   ]
  },
  {
   "cell_type": "markdown",
   "metadata": {},
   "source": [
    "# Playing video from your PC "
   ]
  },
  {
   "cell_type": "code",
   "execution_count": 21,
   "metadata": {},
   "outputs": [],
   "source": [
    "cap = cv2.VideoCapture(\"fire.mp4\")                          #if everything is going perfect, returns true\n",
    "\n",
    "while(cap.open):                                            #while(True) , while(cap.isopened), while(cap.open)\n",
    "    \n",
    "    ret, frame = cap.read()                                 #Capture frame by frame\n",
    "    \n",
    "    if ret == False:\n",
    "        break\n",
    "    else:\n",
    "        gray = cv2.cvtColor(frame, cv2.COLOR_BGR2GRAY)          #Convert video capturing to grayscale\n",
    "        cv2.imshow('Live streaming',gray)                       #Show every frame\n",
    "        \n",
    "        if cv2.waitKey(1) == ord('q'):\n",
    "            break\n",
    "\n",
    "cap.release()\n",
    "cv2.destroyAllWindows()"
   ]
  },
  {
   "cell_type": "markdown",
   "metadata": {},
   "source": [
    "# playing Youtube videos \n",
    "\n",
    "For this, we have to install two packages\n",
    "<li>pafy: pip install pafy (<a href=\"https://pythonhosted.org/Pafy/\" > Documentation </a>) - Python library to download YouTube content and retrieve </li> \n",
    "<li>youtube_dl : pip install youtube_dl (<a href=\"https://pypi.org/project/youtube_dl/\"> Documentation </a>) - Youtube Downloader </li>"
   ]
  },
  {
   "cell_type": "code",
   "execution_count": 19,
   "metadata": {},
   "outputs": [
    {
     "name": "stdout",
     "output_type": "stream",
     "text": [
      "Title: Irfan Pathan on BEAST MODE vs PAKISTAN | EPIC OVER !!\n",
      "Author: CricketCloud\n",
      "ID: K5kgbwTC6l4\n",
      "Duration: 00:04:20\n",
      "Rating: 4.8369699\n",
      "Views: 1135844\n",
      "Thumbnail: http://i.ytimg.com/vi/K5kgbwTC6l4/default.jpg\n",
      "normal:mp4@1280x720\n"
     ]
    }
   ],
   "source": [
    "import pafy\n",
    "url = 'https://www.youtube.com/watch?v=K5kgbwTC6l4'\n",
    "vPafy = pafy.new(url)                              #retrive video information from youtube\n",
    "play = vPafy.getbest()                             #Return the highest resolution video+audio stream.                 \n",
    "print(vPafy)\n",
    "print(play)"
   ]
  },
  {
   "cell_type": "code",
   "execution_count": 20,
   "metadata": {},
   "outputs": [],
   "source": [
    "cap = cv2.VideoCapture(play.url)                            #if everything is going perfect, returns true\n",
    "\n",
    "while(cap.open):                                            #while(True) , while(cap.isopened), while(cap.open)\n",
    "    \n",
    "    ret, frame = cap.read()                                 #Capture frame by frame\n",
    "\n",
    "    if ret == False:\n",
    "        break\n",
    "    else:\n",
    "        gray = cv2.cvtColor(frame, cv2.COLOR_BGR2GRAY)          #Convert video capturing to grayscale\n",
    "        cv2.imshow('Live streaming',gray)                       #Show every frame\n",
    "        \n",
    "        if cv2.waitKey(1) == ord('q'):\n",
    "            break\n",
    "\n",
    "cap.release()\n",
    "cv2.destroyAllWindows()"
   ]
  }
 ],
 "metadata": {
  "kernelspec": {
   "display_name": "Python 3",
   "language": "python",
   "name": "python3"
  },
  "language_info": {
   "codemirror_mode": {
    "name": "ipython",
    "version": 3
   },
   "file_extension": ".py",
   "mimetype": "text/x-python",
   "name": "python",
   "nbconvert_exporter": "python",
   "pygments_lexer": "ipython3",
   "version": "3.5.4"
  }
 },
 "nbformat": 4,
 "nbformat_minor": 4
}
